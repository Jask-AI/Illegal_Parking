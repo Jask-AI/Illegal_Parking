{
  "nbformat": 4,
  "nbformat_minor": 0,
  "metadata": {
    "colab": {
      "name": "train.ipynb",
      "version": "0.3.2",
      "provenance": [],
      "collapsed_sections": [],
      "machine_shape": "hm"
    },
    "kernelspec": {
      "name": "python3",
      "display_name": "Python 3"
    },
    "accelerator": "GPU"
  },
  "cells": [
    {
      "cell_type": "code",
      "metadata": {
        "id": "hsJAnGttsS3b",
        "colab_type": "code",
        "colab": {}
      },
      "source": [
        "# # Install the PyDrive wrapper & import libraries.\n",
        "# # This only needs to be done once per notebook.\n",
        "# !pip install -U -q PyDrive\n",
        "# from pydrive.auth import GoogleAuth\n",
        "# from pydrive.drive import GoogleDrive\n",
        "# from google.colab import auth\n",
        "# from oauth2client.client import GoogleCredentials\n",
        "\n",
        "# # Authenticate and create the PyDrive client.\n",
        "# # This only needs to be done once per notebook.\n",
        "# auth.authenticate_user()\n",
        "# gauth = GoogleAuth()\n",
        "# gauth.credentials = GoogleCredentials.get_application_default()\n",
        "# drive = GoogleDrive(gauth)\n",
        "\n",
        "# # Download a file based on its file ID.\n",
        "# # https://drive.google.com/open?id=1fAiFI4rhtFNexUyhRRECZvW6dw8E_mS2\n",
        "# # A file ID looks like: laggVyWshwcyP6kEI-y_W3P8D26sz\n",
        "# file_id = '1fAiFI4rhtFNexUyhRRECZvW6dw8E_mS2'\n",
        "# downloaded = drive.CreateFile({'id': file_id})\n",
        "# downloaded.GetContentFile(\"images_Data.zip\")\n",
        "# # print('Downloaded content \"{}\"'.format(downloaded.GetContentString()))\n",
        "# !unzip images_Data.zip"
      ],
      "execution_count": 0,
      "outputs": []
    },
    {
      "cell_type": "code",
      "metadata": {
        "id": "SWOFRWn-o5fG",
        "colab_type": "code",
        "colab": {}
      },
      "source": [
        "# from google.colab import files\n",
        "\n",
        "# uploaded = files.upload()\n",
        "\n",
        "# for fn in uploaded.keys():\n",
        "#   print('User uploaded file \"{name}\" with length {length} bytes'.format(\n",
        "#       name=fn, length=len(uploaded[fn])))"
      ],
      "execution_count": 0,
      "outputs": []
    },
    {
      "cell_type": "code",
      "metadata": {
        "id": "DT9Z-3eStAL5",
        "colab_type": "code",
        "outputId": "032064e0-b2e7-4377-9280-d806112b8894",
        "colab": {
          "base_uri": "https://localhost:8080/",
          "height": 51
        }
      },
      "source": [
        "import os\n",
        "print(len(os.listdir(\"./images\")),end=\" \")\n",
        "!cp -a ./extra_data/. ./images/\n",
        "!cp -a ./Latest_data/. ./images/\n",
        "!cp -a ./Test_im/. ./images/\n",
        "\n",
        "print(len(os.listdir(\"./images\")))"
      ],
      "execution_count": 5,
      "outputs": [
        {
          "output_type": "stream",
          "text": [
            "180\n",
            "508\n"
          ],
          "name": "stdout"
        }
      ]
    },
    {
      "cell_type": "code",
      "metadata": {
        "id": "Ul7BXpRxozJH",
        "colab_type": "code",
        "colab": {
          "base_uri": "https://localhost:8080/",
          "height": 34
        },
        "outputId": "49368eeb-21a1-442a-8c44-2fa25fc7db4a"
      },
      "source": [
        "import keras as ks\n",
        "import numpy as np\n",
        "import matplotlib.pyplot as plt\n",
        "import cv2\n",
        "from sklearn.model_selection import train_test_split\n",
        "import pickle as pkl\n",
        "from sklearn.metrics import classification_report\n",
        "from sklearn.svm import LinearSVC"
      ],
      "execution_count": 7,
      "outputs": [
        {
          "output_type": "stream",
          "text": [
            "Using TensorFlow backend.\n"
          ],
          "name": "stderr"
        }
      ]
    },
    {
      "cell_type": "code",
      "metadata": {
        "id": "r5zwjddoozJP",
        "colab_type": "code",
        "colab": {}
      },
      "source": [
        "from image_augmentations import augmentation\n",
        "from model import create_model\n",
        "from preprocessing import preprocess"
      ],
      "execution_count": 0,
      "outputs": []
    },
    {
      "cell_type": "code",
      "metadata": {
        "id": "66Mwcwn4ozJS",
        "colab_type": "code",
        "colab": {}
      },
      "source": [
        "orig_labels=[]\n",
        "with open(\"./labels.pickle\",\"rb\") as file:\n",
        "    orig_labels=pkl.load(file)\n",
        "    \n",
        "aug_labels=[]\n",
        "with open(\"./extra_data.pickle\",\"rb\") as file:\n",
        "    aug_labels=pkl.load(file)\n",
        "    \n",
        "aug_labels2=[]\n",
        "with open(\"./data_extra.pickle\",\"rb\") as file:\n",
        "    aug_labels2=pkl.load(file)\n",
        "\n",
        "aug_labels3=[]\n",
        "with open(\"./test_labels.pickle\",\"rb\") as file:\n",
        "    aug_labels3=pkl.load(file)\n",
        "    \n",
        "labels=orig_labels+aug_labels+aug_labels2+aug_labels3\n",
        "\n",
        "train_lab,test_lab=train_test_split(labels,test_size=0.3,random_state=3)#1,3,0.1,0.2,0.25,0.3\n",
        "\n",
        "!mkdir aug_images\n",
        "aug_labels=augmentation(train_lab)\n",
        "train_lab=train_lab+aug_labels\n",
        "!cp -a ./aug_images/. ./images/\n",
        "print(len(test_lab))"
      ],
      "execution_count": 0,
      "outputs": []
    },
    {
      "cell_type": "code",
      "metadata": {
        "id": "lNqGW2MbwI28",
        "colab_type": "code",
        "outputId": "94900069-869d-4109-8379-a8aba8bdebc8",
        "colab": {
          "base_uri": "https://localhost:8080/",
          "height": 34
        }
      },
      "source": [
        "def simplify_labels(labels):\n",
        "    new_labels=[]\n",
        "    for image in labels:\n",
        "        for num in range(image[1][0]):\n",
        "            new_labels.append((image[0],(1,[image[1][1][num]],[image[1][2][num]])))\n",
        "    return new_labels\n",
        "\n",
        "labels=simplify_labels(train_lab)\n",
        "test_lab=simplify_labels(test_lab)\n",
        "# np.random.shuffle(labels)\n",
        "len(labels),len(test_lab)"
      ],
      "execution_count": 10,
      "outputs": [
        {
          "output_type": "execute_result",
          "data": {
            "text/plain": [
              "(3702, 255)"
            ]
          },
          "metadata": {
            "tags": []
          },
          "execution_count": 10
        }
      ]
    },
    {
      "cell_type": "code",
      "metadata": {
        "id": "vXAw_2iMozJY",
        "colab_type": "code",
        "colab": {
          "base_uri": "https://localhost:8080/",
          "height": 34
        },
        "outputId": "ad655b7e-b749-4ac6-b036-9c31113a3e58"
      },
      "source": [
        "model=create_model((224,224,3))\n",
        "\n",
        "batch_size=128\n",
        "epochs=9\n",
        "steps_per_epoch=int(total_data/(batch_size))\n",
        "steps_per_epoch"
      ],
      "execution_count": 14,
      "outputs": [
        {
          "output_type": "execute_result",
          "data": {
            "text/plain": [
              "28"
            ]
          },
          "metadata": {
            "tags": []
          },
          "execution_count": 14
        }
      ]
    },
    {
      "cell_type": "code",
      "metadata": {
        "id": "MXY9etk3ozJf",
        "colab_type": "code",
        "colab": {
          "base_uri": "https://localhost:8080/",
          "height": 68
        },
        "outputId": "7c69c2b9-251d-48f4-831f-406a4de25cfb"
      },
      "source": [
        "model.fit_generator(preprocess(labels,\"./images/\",batch_size=batch_size),steps_per_epoch=steps_per_epoch,epochs=1)"
      ],
      "execution_count": 38,
      "outputs": [
        {
          "output_type": "stream",
          "text": [
            "Epoch 1/1\n",
            "28/28 [==============================] - 119s 4s/step - loss: 0.0996 - acc: 0.9760\n"
          ],
          "name": "stdout"
        },
        {
          "output_type": "execute_result",
          "data": {
            "text/plain": [
              "<keras.callbacks.History at 0x7ff81eebb2e8>"
            ]
          },
          "metadata": {
            "tags": []
          },
          "execution_count": 38
        }
      ]
    },
    {
      "cell_type": "code",
      "metadata": {
        "id": "Pxn9CwXyaFYG",
        "colab_type": "code",
        "colab": {
          "base_uri": "https://localhost:8080/",
          "height": 187
        },
        "outputId": "8dc52c60-ae3e-4907-8772-cfa26cab5c45"
      },
      "source": [
        "gen=preprocess(test_lab,\"./images/\",batch_size=len(test_lab))\n",
        "test_data,test_labels=next(gen)\n",
        "preds=model.predict_classes(test_data)\n",
        "print(classification_report(test_labels,preds))\n",
        "(test_labels==preds.reshape((-1))).sum()/preds.shape[0]"
      ],
      "execution_count": 39,
      "outputs": [
        {
          "output_type": "stream",
          "text": [
            "              precision    recall  f1-score   support\n",
            "\n",
            "           0       0.78      0.81      0.80       134\n",
            "           1       0.78      0.74      0.76       121\n",
            "\n",
            "    accuracy                           0.78       255\n",
            "   macro avg       0.78      0.78      0.78       255\n",
            "weighted avg       0.78      0.78      0.78       255\n",
            "\n"
          ],
          "name": "stdout"
        },
        {
          "output_type": "execute_result",
          "data": {
            "text/plain": [
              "0.7803921568627451"
            ]
          },
          "metadata": {
            "tags": []
          },
          "execution_count": 39
        }
      ]
    },
    {
      "cell_type": "code",
      "metadata": {
        "id": "g8ltq6z_NsTV",
        "colab_type": "code",
        "colab": {}
      },
      "source": [
        "# model.save(\"./model_1.h5\")\n",
        "\n",
        "\n",
        "# auth.authenticate_user()\n",
        "# gauth = GoogleAuth()\n",
        "# gauth.credentials = GoogleCredentials.get_application_default()\n",
        "# drive = GoogleDrive(gauth)\n",
        "\n",
        "# # Create & upload a text file.\n",
        "# uploaded = drive.CreateFile({'title': 'IP_model_2.h5'})\n",
        "# uploaded.SetContentFile(\"model_1.h5\")\n",
        "# uploaded.Upload()\n",
        "# # print('Uploaded file with ID {}'.format(uploaded.get('id')))"
      ],
      "execution_count": 0,
      "outputs": []
    },
    {
      "cell_type": "code",
      "metadata": {
        "id": "BxxEliYW3zPd",
        "colab_type": "code",
        "colab": {}
      },
      "source": [
        "#approach 2"
      ],
      "execution_count": 0,
      "outputs": []
    },
    {
      "cell_type": "code",
      "metadata": {
        "id": "PLO_4-V3fzB6",
        "colab_type": "code",
        "colab": {}
      },
      "source": [
        "base_model=ks.applications.VGG16(include_top=False,input_shape=(224,224,3))"
      ],
      "execution_count": 0,
      "outputs": []
    },
    {
      "cell_type": "code",
      "metadata": {
        "id": "lIkgqO3CkcYE",
        "colab_type": "code",
        "colab": {}
      },
      "source": [
        "gen=preprocess(labels,\"./images/\",batch_size=total_data)\n",
        "data,t=next(gen)\n",
        "data_feat=base_model.predict(data)\n",
        "data_feat=data_feat.reshape((total_data,-1))"
      ],
      "execution_count": 0,
      "outputs": []
    },
    {
      "cell_type": "code",
      "metadata": {
        "id": "-MeU2sAHmfBc",
        "colab_type": "code",
        "colab": {}
      },
      "source": [
        "cls1=LinearSVC(max_iter =2000)\n",
        "cls1.fit(data_feat,t)"
      ],
      "execution_count": 0,
      "outputs": []
    },
    {
      "cell_type": "code",
      "metadata": {
        "id": "skNQvzgFm64q",
        "colab_type": "code",
        "colab": {}
      },
      "source": [
        "gen=preprocess(test_lab,\"./images/\",batch_size=len(test_lab))\n",
        "data_t,test_labels=next(gen)\n",
        "test_feat=base_model.predict(data_t)\n",
        "test_feat=test_feat.reshape((len(test_lab),-1))"
      ],
      "execution_count": 0,
      "outputs": []
    },
    {
      "cell_type": "code",
      "metadata": {
        "id": "HHqUDN2gnk1T",
        "colab_type": "code",
        "outputId": "d0b23fda-3d39-49c5-d413-7ec24b824689",
        "colab": {
          "base_uri": "https://localhost:8080/",
          "height": 170
        }
      },
      "source": [
        "print(classification_report(test_labels,cls1.predict(test_feat)))"
      ],
      "execution_count": 31,
      "outputs": [
        {
          "output_type": "stream",
          "text": [
            "              precision    recall  f1-score   support\n",
            "\n",
            "           0       0.77      0.76      0.76       134\n",
            "           1       0.74      0.74      0.74       121\n",
            "\n",
            "    accuracy                           0.75       255\n",
            "   macro avg       0.75      0.75      0.75       255\n",
            "weighted avg       0.75      0.75      0.75       255\n",
            "\n"
          ],
          "name": "stdout"
        }
      ]
    }
  ]
}