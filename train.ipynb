{
 "cells": [
  {
   "cell_type": "code",
   "execution_count": 57,
   "metadata": {},
   "outputs": [],
   "source": [
    "import keras as ks\n",
    "import numpy as np\n",
    "import matplotlib.pyplot as plt\n",
    "import cv2\n",
    "import pickle as pkl"
   ]
  },
  {
   "cell_type": "code",
   "execution_count": 2,
   "metadata": {},
   "outputs": [],
   "source": [
    "from model import create_model\n",
    "from preprocessing import preprocess"
   ]
  },
  {
   "cell_type": "code",
   "execution_count": 3,
   "metadata": {},
   "outputs": [],
   "source": [
    "orig_labels=[]\n",
    "with open(\"./labels.pickle\",\"rb\") as file:\n",
    "    orig_labels=pkl.load(file)\n",
    "    \n",
    "aug_labels=[]\n",
    "with open(\"./augments_label.pickle\",\"rb\") as file:\n",
    "    aug_labels=pkl.load(file)\n",
    "\n",
    "labels=orig_labels+aug_labels\n",
    "\n",
    "# len(labels)"
   ]
  },
  {
   "cell_type": "code",
   "execution_count": 4,
   "metadata": {},
   "outputs": [
    {
     "data": {
      "text/plain": [
       "1920"
      ]
     },
     "execution_count": 4,
     "metadata": {},
     "output_type": "execute_result"
    }
   ],
   "source": [
    "def simplify_labels(labels):\n",
    "    new_labels=[]\n",
    "    for image in labels:\n",
    "        for num in range(image[1][0]):\n",
    "            new_labels.append((image[0],(1,[image[1][1][num]],[image[1][2][num]])))\n",
    "    return new_labels\n",
    "labels=simplify_labels(labels)\n",
    "np.random.shuffle(labels)\n",
    "len(labels)"
   ]
  },
  {
   "cell_type": "code",
   "execution_count": 5,
   "metadata": {},
   "outputs": [
    {
     "data": {
      "text/plain": [
       "(1920, 786)"
      ]
     },
     "execution_count": 5,
     "metadata": {},
     "output_type": "execute_result"
    }
   ],
   "source": [
    "total_data=0\n",
    "ones=[]\n",
    "for image in labels:\n",
    "    total_data+=image[1][0]\n",
    "    ones+=image[1][-1]\n",
    "total_data,(np.array(ones)=='1').sum()"
   ]
  },
  {
   "cell_type": "code",
   "execution_count": 6,
   "metadata": {},
   "outputs": [],
   "source": [
    "batch_size=256\n",
    "epochs=2\n",
    "steps_per_epoch=total_data/batch_size"
   ]
  },
  {
   "cell_type": "code",
   "execution_count": 11,
   "metadata": {},
   "outputs": [],
   "source": [
    "model=create_model((224,224,3))\n",
    "gen=preprocess(labels,\"./Data/images/\",batch_size=batch_size)"
   ]
  },
  {
   "cell_type": "code",
   "execution_count": 11,
   "metadata": {},
   "outputs": [],
   "source": [
    "import keras as ks\n",
    "# import tensorflow as tf\n",
    "\n",
    "def create_model(input_shape):\n",
    "    base_model=ks.applications.VGG16(include_top=False,input_shape=input_shape)\n",
    "\n",
    "    trainable=False\n",
    "    for layer in base_model.layers:\n",
    "        if layer.name == \"block5_conv1\":\n",
    "            trainable=True\n",
    "        layer.trainable=trainable\n",
    "\n",
    "    model=ks.models.Sequential()\n",
    "    model.add(base_model)\n",
    "    model.add(ks.layers.Flatten())\n",
    "    model.add(ks.layers.Dropout(rate=0.25))\n",
    "    model.add(ks.layers.Dense(1024,activation=\"relu\"))\n",
    "    model.add(ks.layers.Dense(512,activation=\"relu\"))\n",
    "    model.add(ks.layers.Dense(128,activation=\"relu\"))\n",
    "    model.add(ks.layers.Dense(64,activation=\"relu\"))\n",
    "    model.add(ks.layers.Dense(1,activation=\"sigmoid\"))\n",
    "\n",
    "    model.compile(optimizer=\"adam\",loss=ks.losses.binary_crossentropy,metrics=[\"accuracy\"])\n",
    "\n",
    "    return model,base_model"
   ]
  },
  {
   "cell_type": "code",
   "execution_count": 12,
   "metadata": {},
   "outputs": [],
   "source": [
    "model,base=create_model((224,224,3))"
   ]
  },
  {
   "cell_type": "code",
   "execution_count": null,
   "metadata": {},
   "outputs": [],
   "source": [
    "ks.optimizers.adam()"
   ]
  }
 ],
 "metadata": {
  "kernelspec": {
   "display_name": "Python 3",
   "language": "python",
   "name": "python3"
  },
  "language_info": {
   "codemirror_mode": {
    "name": "ipython",
    "version": 3
   },
   "file_extension": ".py",
   "mimetype": "text/x-python",
   "name": "python",
   "nbconvert_exporter": "python",
   "pygments_lexer": "ipython3",
   "version": "3.6.8"
  }
 },
 "nbformat": 4,
 "nbformat_minor": 2
}
